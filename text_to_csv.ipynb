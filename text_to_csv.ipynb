{
 "cells": [
  {
   "cell_type": "code",
   "execution_count": 39,
   "id": "6394a50b",
   "metadata": {},
   "outputs": [],
   "source": [
    "import pandas as pd\n",
    "import numpy as np\n",
    "import re"
   ]
  },
  {
   "cell_type": "code",
   "execution_count": 40,
   "id": "a32765ba",
   "metadata": {},
   "outputs": [],
   "source": [
    "a= \"q: \"\n",
    "b= \"a: \""
   ]
  },
  {
   "cell_type": "code",
   "execution_count": 41,
   "id": "0a8b93fd",
   "metadata": {},
   "outputs": [],
   "source": [
    "def readFile(fileName):\n",
    "        fileObj = open(fileName, \"r\")\n",
    "        a = fileObj.read().splitlines()\n",
    "        fileObj.close()\n",
    "        return a"
   ]
  },
  {
   "cell_type": "code",
   "execution_count": 49,
   "id": "fa8c3bb7",
   "metadata": {},
   "outputs": [],
   "source": [
    "t =readFile('topic.txt')\n",
    "q =readFile('ques.txt')"
   ]
  },
  {
   "cell_type": "code",
   "execution_count": 50,
   "id": "10230fc0",
   "metadata": {},
   "outputs": [
    {
     "data": {
      "text/plain": [
       "['Who is the founder fo AI?', 'What is the fullform of IBM?']"
      ]
     },
     "execution_count": 50,
     "metadata": {},
     "output_type": "execute_result"
    }
   ],
   "source": [
    "q"
   ]
  },
  {
   "cell_type": "code",
   "execution_count": 51,
   "id": "9ddac4b7",
   "metadata": {},
   "outputs": [
    {
     "data": {
      "text/plain": [
       "['John McCarthy (September 4, 1927 â€“ October 24, 2011) was an American computer scientist and cognitive scientist. McCarthy was one of the founders of the discipline of artificial intelligence.[1] He co-authored the document that coined the term \"artificial intelligence\" (AI), developed the Lisp programming language family, significantly influenced the design of the ALGOL programming language, popularized time-sharing, and invented garbage collection.',\n",
       " 'IBM, in full International Business Machines Corporation, leading American computer manufacturer, with a major share of the market both in the United States and abroad. Its headquarters are in Armonk, New York.']"
      ]
     },
     "execution_count": 51,
     "metadata": {},
     "output_type": "execute_result"
    }
   ],
   "source": [
    "t"
   ]
  },
  {
   "cell_type": "code",
   "execution_count": 53,
   "id": "17365f49",
   "metadata": {},
   "outputs": [],
   "source": [
    "f=list(zip(t, q))"
   ]
  },
  {
   "cell_type": "code",
   "execution_count": 54,
   "id": "9245b1d4",
   "metadata": {},
   "outputs": [],
   "source": [
    "dataframe = pd.DataFrame(f)"
   ]
  },
  {
   "cell_type": "code",
   "execution_count": 55,
   "id": "3c495fea",
   "metadata": {},
   "outputs": [],
   "source": [
    "headerList = ['text', 'question']\n",
    "dataframe.to_csv(r\"ques.csv\",header=headerList, index=False)"
   ]
  },
  {
   "cell_type": "code",
   "execution_count": 56,
   "id": "88d8eaf3",
   "metadata": {},
   "outputs": [
    {
     "data": {
      "text/html": [
       "<div>\n",
       "<style scoped>\n",
       "    .dataframe tbody tr th:only-of-type {\n",
       "        vertical-align: middle;\n",
       "    }\n",
       "\n",
       "    .dataframe tbody tr th {\n",
       "        vertical-align: top;\n",
       "    }\n",
       "\n",
       "    .dataframe thead th {\n",
       "        text-align: right;\n",
       "    }\n",
       "</style>\n",
       "<table border=\"1\" class=\"dataframe\">\n",
       "  <thead>\n",
       "    <tr style=\"text-align: right;\">\n",
       "      <th></th>\n",
       "      <th>text</th>\n",
       "      <th>question</th>\n",
       "    </tr>\n",
       "  </thead>\n",
       "  <tbody>\n",
       "    <tr>\n",
       "      <th>0</th>\n",
       "      <td>John McCarthy (September 4, 1927 â€“ October 2...</td>\n",
       "      <td>Who is the founder fo AI?</td>\n",
       "    </tr>\n",
       "    <tr>\n",
       "      <th>1</th>\n",
       "      <td>IBM, in full International Business Machines C...</td>\n",
       "      <td>What is the fullform of IBM?</td>\n",
       "    </tr>\n",
       "  </tbody>\n",
       "</table>\n",
       "</div>"
      ],
      "text/plain": [
       "                                                text  \\\n",
       "0  John McCarthy (September 4, 1927 â€“ October 2...   \n",
       "1  IBM, in full International Business Machines C...   \n",
       "\n",
       "                       question  \n",
       "0     Who is the founder fo AI?  \n",
       "1  What is the fullform of IBM?  "
      ]
     },
     "execution_count": 56,
     "metadata": {},
     "output_type": "execute_result"
    }
   ],
   "source": [
    "data = pd.read_csv ('ques.csv')\n",
    "data.head()"
   ]
  },
  {
   "cell_type": "code",
   "execution_count": null,
   "id": "dff52bb7",
   "metadata": {},
   "outputs": [],
   "source": []
  }
 ],
 "metadata": {
  "kernelspec": {
   "display_name": "Python 3",
   "language": "python",
   "name": "python3"
  },
  "language_info": {
   "codemirror_mode": {
    "name": "ipython",
    "version": 3
   },
   "file_extension": ".py",
   "mimetype": "text/x-python",
   "name": "python",
   "nbconvert_exporter": "python",
   "pygments_lexer": "ipython3",
   "version": "3.8.8"
  }
 },
 "nbformat": 4,
 "nbformat_minor": 5
}
